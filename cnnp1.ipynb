{
  "nbformat": 4,
  "nbformat_minor": 0,
  "metadata": {
    "colab": {
      "name": "cnnp1.ipynb",
      "provenance": [],
      "collapsed_sections": [],
      "machine_shape": "hm",
      "include_colab_link": true
    },
    "kernelspec": {
      "name": "python3",
      "display_name": "Python 3"
    },
    "accelerator": "GPU"
  },
  "cells": [
    {
      "cell_type": "markdown",
      "metadata": {
        "id": "view-in-github",
        "colab_type": "text"
      },
      "source": [
        "<a href=\"https://colab.research.google.com/github/Abubakar26/CNN-Fyp/blob/master/cnnp1.ipynb\" target=\"_parent\"><img src=\"https://colab.research.google.com/assets/colab-badge.svg\" alt=\"Open In Colab\"/></a>"
      ]
    },
    {
      "cell_type": "markdown",
      "metadata": {
        "id": "bVOz5H1mGAnR",
        "colab_type": "text"
      },
      "source": [
        "# **Implementation of Classification of Pneumonia and Tuberculosis from Chest X-rays**"
      ]
    },
    {
      "cell_type": "markdown",
      "metadata": {
        "id": "JyBM6BzBFWJK",
        "colab_type": "text"
      },
      "source": [
        "**Loading Libraries and mounting GDrive**"
      ]
    },
    {
      "cell_type": "code",
      "metadata": {
        "id": "dSdDciVNG4C1",
        "colab_type": "code",
        "colab": {
          "base_uri": "https://localhost:8080/",
          "height": 154
        },
        "outputId": "a809b0cd-e3ad-4554-cfeb-12cb32172753"
      },
      "source": [
        "%tensorflow_version 1.x\n",
        "from google.colab import drive \n",
        "drive.mount('/content/drive')\n",
        "DATA_PATH = \"/content/drive/My Drive/Colab Notebooks\"\n",
        "import pickle as pk\n",
        "from matplotlib import pyplot as plt\n",
        "from sklearn.utils import shuffle\n",
        "from sklearn import metrics\n",
        "import numpy as np\n",
        "import matplotlib.pyplot as plt\n",
        "import keras \n",
        "from keras.models import Sequential\n",
        "from keras.layers import Conv2D,MaxPooling2D, GlobalAveragePooling2D\n",
        "from keras.layers import Dense,Dropout,Flatten,BatchNormalization\n",
        "from sklearn.model_selection import train_test_split as tts\n",
        "import matplotlib.pyplot as plt\n",
        "import pandas as pd\n",
        "from keras.optimizers import SGD\n",
        "from sklearn.model_selection import KFold\n",
        "batch_size = 128\n",
        "num_classes = 3\n",
        "epochs = 10\n",
        "import os"
      ],
      "execution_count": 1,
      "outputs": [
        {
          "output_type": "stream",
          "text": [
            "TensorFlow 1.x selected.\n",
            "Go to this URL in a browser: https://accounts.google.com/o/oauth2/auth?client_id=947318989803-6bn6qk8qdgf4n4g3pfee6491hc0brc4i.apps.googleusercontent.com&redirect_uri=urn%3aietf%3awg%3aoauth%3a2.0%3aoob&response_type=code&scope=email%20https%3a%2f%2fwww.googleapis.com%2fauth%2fdocs.test%20https%3a%2f%2fwww.googleapis.com%2fauth%2fdrive%20https%3a%2f%2fwww.googleapis.com%2fauth%2fdrive.photos.readonly%20https%3a%2f%2fwww.googleapis.com%2fauth%2fpeopleapi.readonly\n",
            "\n",
            "Enter your authorization code:\n",
            "··········\n",
            "Mounted at /content/drive\n"
          ],
          "name": "stdout"
        },
        {
          "output_type": "stream",
          "text": [
            "Using TensorFlow backend.\n"
          ],
          "name": "stderr"
        }
      ]
    },
    {
      "cell_type": "markdown",
      "metadata": {
        "id": "h2YLpdD2IQlH",
        "colab_type": "text"
      },
      "source": [
        "**Loading Dataset (X-RAYS and Labels)**"
      ]
    },
    {
      "cell_type": "code",
      "metadata": {
        "colab_type": "code",
        "id": "wIwLYfGUFShS",
        "colab": {}
      },
      "source": [
        "pickle_in1=open(DATA_PATH+\"/colorxray\",\"rb\")\n",
        "X=pk.load(pickle_in1)\n",
        "pickle_in2=open(DATA_PATH+\"/colorlabels\",\"rb\")\n",
        "Y=pk.load(pickle_in2)\n",
        "print(\"Done\")"
      ],
      "execution_count": 0,
      "outputs": []
    },
    {
      "cell_type": "markdown",
      "metadata": {
        "id": "RaMLQt3XFgZ5",
        "colab_type": "text"
      },
      "source": [
        "**Splitting Dataset **"
      ]
    },
    {
      "cell_type": "code",
      "metadata": {
        "id": "mBcX4yFFFlg2",
        "colab_type": "code",
        "colab": {}
      },
      "source": [
        "x_train,x_test,y_train,y_test = tts(X,Y,train_size=0.8)\n",
        "x_train=np.array(x_train)\n",
        "y_train=np.array(y_train)\n",
        "x_test=np.array(x_test)\n",
        "y_test=np.array(y_test)\n",
        "print(\"Done\")"
      ],
      "execution_count": 0,
      "outputs": []
    },
    {
      "cell_type": "markdown",
      "metadata": {
        "id": "4A_nqrB5FsOx",
        "colab_type": "text"
      },
      "source": [
        "**Normalizing images by making them in center**"
      ]
    },
    {
      "cell_type": "code",
      "metadata": {
        "id": "uO-RG4y3Fxvd",
        "colab_type": "code",
        "colab": {}
      },
      "source": [
        "x_train=x_train/255-0.5\n",
        "x_test=x_test/255-0.5\n",
        "print('Done')"
      ],
      "execution_count": 0,
      "outputs": []
    },
    {
      "cell_type": "markdown",
      "metadata": {
        "id": "RcbIXIIAF2Dk",
        "colab_type": "text"
      },
      "source": [
        "**Shapes of Splitted Data into variables**"
      ]
    },
    {
      "cell_type": "code",
      "metadata": {
        "id": "vXKqYEPYF-kc",
        "colab_type": "code",
        "colab": {
          "base_uri": "https://localhost:8080/",
          "height": 369
        },
        "outputId": "f87ea6d7-2668-49fe-d06f-bd6ba7508687"
      },
      "source": [
        "print(\"ytest\",y_test[0])\n",
        "print(\"Xtrain\",x_train.shape)\n",
        "print(\"Ytrain\",y_train.shape)\n",
        "print(\"Ytest\",y_test.shape)\n",
        "print(\"Xtest\",x_test.shape)\n",
        "plt.imshow(x_train[200])\n",
        "plt.show()\n",
        "print('Done')"
      ],
      "execution_count": 7,
      "outputs": [
        {
          "output_type": "stream",
          "text": [
            "Clipping input data to the valid range for imshow with RGB data ([0..1] for floats or [0..255] for integers).\n"
          ],
          "name": "stderr"
        },
        {
          "output_type": "stream",
          "text": [
            "ytest 1\n",
            "Xtrain (5576, 90, 90, 3)\n",
            "Ytrain (5576,)\n",
            "Ytest (1394,)\n",
            "Xtest (1394, 90, 90, 3)\n"
          ],
          "name": "stdout"
        },
        {
          "output_type": "display_data",
          "data": {
            "image/png": "[encoded data removed]",
            "text/plain": [
              "<Figure size 432x288 with 1 Axes>"
            ]
          },
          "metadata": {
            "tags": [],
            "needs_background": "light"
          }
        }
      ]
    },
    {
      "cell_type": "markdown",
      "metadata": {
        "id": "AT1HTQ9LGEMT",
        "colab_type": "text"
      },
      "source": [
        "**Converting Labels in One hot-encoding**"
      ]
    },
    {
      "cell_type": "code",
      "metadata": {
        "id": "5pyieHtFGKHe",
        "colab_type": "code",
        "colab": {}
      },
      "source": [
        "y_train = keras.utils.to_categorical(y_train,3)\n",
        "y_test = keras.utils.to_categorical(y_test,3)\n",
        "print(\"Done\")"
      ],
      "execution_count": 0,
      "outputs": []
    },
    {
      "cell_type": "markdown",
      "metadata": {
        "id": "0uVA-_9dGO13",
        "colab_type": "text"
      },
      "source": [
        "**Creating Neural Network**"
      ]
    },
    {
      "cell_type": "code",
      "metadata": {
        "id": "LvE7ih5bGTex",
        "colab_type": "code",
        "colab": {
          "base_uri": "https://localhost:8080/",
          "height": 507
        },
        "outputId": "ebde61c2-e08a-4349-9af2-f04d2332c219"
      },
      "source": [
        "from keras.callbacks import EarlyStopping\n",
        "from keras.callbacks import Callback\n",
        "# early_stopping = EarlyStopping(monitor='val_loss', patience=3)\n",
        "model = Sequential()\n",
        "model.add(Conv2D(128, kernel_size=(5, 5),activation='relu', input_shape=(90,90,3)))\n",
        "model.add(Conv2D(128, (4, 4), activation='relu'))\n",
        "model.add(MaxPooling2D(pool_size=(4,4)))\n",
        "model.add(Conv2D(128, (4, 4), activation='relu'))\n",
        "model.add(Conv2D(128, (4, 4), activation='relu'))\n",
        "model.add(MaxPooling2D(pool_size=(4,4)))\n",
        "model.add(Flatten())\n",
        "model.add(BatchNormalization(momentum=0.1))\n",
        "model.add(Dense(num_classes, activation='softmax'))\n",
        "model.compile(loss=keras.losses.categorical_crossentropy,optimizer=keras.optimizers.Adam(0.0001),metrics=['accuracy'])\n",
        "model.get_weights()\n",
        "history=model.fit(x_train,y_train, batch_size=batch_size, shuffle=True ,epochs=epochs,verbose=1 ,validation_split=0.1,callbacks=[Callback()] )"
      ],
      "execution_count": 9,
      "outputs": [
        {
          "output_type": "stream",
          "text": [
            "WARNING:tensorflow:From /tensorflow-1.15.2/python3.6/tensorflow_core/python/ops/resource_variable_ops.py:1630: calling BaseResourceVariable.__init__ (from tensorflow.python.ops.resource_variable_ops) with constraint is deprecated and will be removed in a future version.\n",
            "Instructions for updating:\n",
            "If using Keras pass *_constraint arguments to layers.\n",
            "WARNING:tensorflow:From /usr/local/lib/python3.6/dist-packages/keras/backend/tensorflow_backend.py:4070: The name tf.nn.max_pool is deprecated. Please use tf.nn.max_pool2d instead.\n",
            "\n",
            "WARNING:tensorflow:From /usr/local/lib/python3.6/dist-packages/keras/backend/tensorflow_backend.py:422: The name tf.global_variables is deprecated. Please use tf.compat.v1.global_variables instead.\n",
            "\n",
            "Train on 5018 samples, validate on 558 samples\n",
            "Epoch 1/10\n",
            "5018/5018 [==============================] - 14s 3ms/step - loss: 0.5920 - accuracy: 0.7997 - val_loss: 0.4145 - val_accuracy: 0.8710\n",
            "Epoch 2/10\n",
            "5018/5018 [==============================] - 6s 1ms/step - loss: 0.3745 - accuracy: 0.8828 - val_loss: 0.3437 - val_accuracy: 0.8925\n",
            "Epoch 3/10\n",
            "5018/5018 [==============================] - 6s 1ms/step - loss: 0.2967 - accuracy: 0.9085 - val_loss: 0.3099 - val_accuracy: 0.9014\n",
            "Epoch 4/10\n",
            "5018/5018 [==============================] - 6s 1ms/step - loss: 0.2503 - accuracy: 0.9239 - val_loss: 0.3488 - val_accuracy: 0.8781\n",
            "Epoch 5/10\n",
            "5018/5018 [==============================] - 6s 1ms/step - loss: 0.2063 - accuracy: 0.9406 - val_loss: 0.3256 - val_accuracy: 0.8961\n",
            "Epoch 6/10\n",
            "5018/5018 [==============================] - 6s 1ms/step - loss: 0.1834 - accuracy: 0.9440 - val_loss: 0.2087 - val_accuracy: 0.9301\n",
            "Epoch 7/10\n",
            "5018/5018 [==============================] - 6s 1ms/step - loss: 0.1642 - accuracy: 0.9496 - val_loss: 0.2156 - val_accuracy: 0.9301\n",
            "Epoch 8/10\n",
            "5018/5018 [==============================] - 6s 1ms/step - loss: 0.1421 - accuracy: 0.9572 - val_loss: 0.1852 - val_accuracy: 0.9373\n",
            "Epoch 9/10\n",
            "5018/5018 [==============================] - 6s 1ms/step - loss: 0.1291 - accuracy: 0.9633 - val_loss: 0.2057 - val_accuracy: 0.9140\n",
            "Epoch 10/10\n",
            "5018/5018 [==============================] - 6s 1ms/step - loss: 0.1107 - accuracy: 0.9679 - val_loss: 0.1782 - val_accuracy: 0.9355\n"
          ],
          "name": "stdout"
        }
      ]
    },
    {
      "cell_type": "markdown",
      "metadata": {
        "id": "HnigPabnH2W2",
        "colab_type": "text"
      },
      "source": [
        "**Model Summary / Architecture**"
      ]
    },
    {
      "cell_type": "code",
      "metadata": {
        "id": "51_ZaWZxH5iC",
        "colab_type": "code",
        "colab": {
          "base_uri": "https://localhost:8080/",
          "height": 470
        },
        "outputId": "269f579c-cdaa-4dae-d033-266cc696405e"
      },
      "source": [
        "print (model.summary())"
      ],
      "execution_count": 13,
      "outputs": [
        {
          "output_type": "stream",
          "text": [
            "Model: \"sequential_1\"\n",
            "_________________________________________________________________\n",
            "Layer (type)                 Output Shape              Param #   \n",
            "=================================================================\n",
            "conv2d_1 (Conv2D)            (None, 86, 86, 128)       9728      \n",
            "_________________________________________________________________\n",
            "conv2d_2 (Conv2D)            (None, 83, 83, 128)       262272    \n",
            "_________________________________________________________________\n",
            "max_pooling2d_1 (MaxPooling2 (None, 20, 20, 128)       0         \n",
            "_________________________________________________________________\n",
            "conv2d_3 (Conv2D)            (None, 17, 17, 128)       262272    \n",
            "_________________________________________________________________\n",
            "conv2d_4 (Conv2D)            (None, 14, 14, 128)       262272    \n",
            "_________________________________________________________________\n",
            "max_pooling2d_2 (MaxPooling2 (None, 3, 3, 128)         0         \n",
            "_________________________________________________________________\n",
            "flatten_1 (Flatten)          (None, 1152)              0         \n",
            "_________________________________________________________________\n",
            "batch_normalization_1 (Batch (None, 1152)              4608      \n",
            "_________________________________________________________________\n",
            "dense_1 (Dense)              (None, 3)                 3459      \n",
            "=================================================================\n",
            "Total params: 804,611\n",
            "Trainable params: 802,307\n",
            "Non-trainable params: 2,304\n",
            "_________________________________________________________________\n",
            "None\n"
          ],
          "name": "stdout"
        }
      ]
    },
    {
      "cell_type": "markdown",
      "metadata": {
        "id": "pIWRCCRjGZye",
        "colab_type": "text"
      },
      "source": [
        "**Plotting Loss and Accuracy of Training and Validation**"
      ]
    },
    {
      "cell_type": "code",
      "metadata": {
        "id": "LeeUig-UGoQD",
        "colab_type": "code",
        "colab": {
          "base_uri": "https://localhost:8080/",
          "height": 573
        },
        "outputId": "a00e5982-a05c-4085-c8f5-ce2e317ba74a"
      },
      "source": [
        "from sklearn.metrics import confusion_matrix as cm\n",
        "from sklearn.metrics import classification_report as cr\n",
        "loss = history.history['loss']\n",
        "val_loss = history.history['val_loss']\n",
        "epochs = range(1, len(loss) + 1)\n",
        "plt.plot(epochs, loss, 'y', label='Training loss')\n",
        "plt.plot(epochs, val_loss, 'r', label='Validation loss')\n",
        "plt.title('Training and validation loss')\n",
        "plt.xlabel('Epochs')\n",
        "plt.ylabel('Loss')\n",
        "plt.legend()\n",
        "plt.show()\n",
        "accu = history.history['accuracy']\n",
        "val_acc = history.history['val_accuracy']\n",
        "plt.plot(epochs, accu, 'y', label='Training acc')\n",
        "plt.plot(epochs, val_acc, 'r', label='Validation acc')\n",
        "plt.title('Training and validation accuracy')\n",
        "plt.xlabel('Epochs')\n",
        "plt.ylabel('Accuracy')\n",
        "plt.legend()\n",
        "plt.show()"
      ],
      "execution_count": 10,
      "outputs": [
        {
          "output_type": "display_data",
          "data": {
            "image/png": "[encoded data removed]",
            "text/plain": [
              "<Figure size 432x288 with 1 Axes>"
            ]
          },
          "metadata": {
            "tags": [],
            "needs_background": "light"
          }
        },
        {
          "output_type": "display_data",
          "data": {
            "image/png": "[encoded data removed]",
            "text/plain": [
              "<Figure size 432x288 with 1 Axes>"
            ]
          },
          "metadata": {
            "tags": [],
            "needs_background": "light"
          }
        }
      ]
    },
    {
      "cell_type": "markdown",
      "metadata": {
        "id": "PdXoJtUeGpsK",
        "colab_type": "text"
      },
      "source": [
        "**Evaluating model on test set **"
      ]
    },
    {
      "cell_type": "code",
      "metadata": {
        "id": "d1NZLjQaG0Gc",
        "colab_type": "code",
        "colab": {
          "base_uri": "https://localhost:8080/",
          "height": 67
        },
        "outputId": "7d1e1104-cfe7-4c2a-d7ea-f849f86c18a4"
      },
      "source": [
        "ev=model.evaluate(x_test,y_test)\n",
        "print(\"Evaluation\",np.argmax(ev))\n",
        "print(\"%s: %.2f%%\" % (model.metrics_names[1], ev[1]*100))"
      ],
      "execution_count": 11,
      "outputs": [
        {
          "output_type": "stream",
          "text": [
            "1394/1394 [==============================] - 1s 553us/step\n",
            "Evaluation 1\n",
            "accuracy: 93.26%\n"
          ],
          "name": "stdout"
        }
      ]
    },
    {
      "cell_type": "markdown",
      "metadata": {
        "id": "oSMTv8k8Ip-N",
        "colab_type": "text"
      },
      "source": [
        "**Saving the model**"
      ]
    },
    {
      "cell_type": "code",
      "metadata": {
        "id": "q886BaI2Irh2",
        "colab_type": "code",
        "colab": {
          "base_uri": "https://localhost:8080/",
          "height": 34
        },
        "outputId": "af982573-9647-415e-d7b0-3bd40a93661d"
      },
      "source": [
        "model.save(\"cnn1xp2\")\n",
        "print(\"Saved\")"
      ],
      "execution_count": 15,
      "outputs": [
        {
          "output_type": "stream",
          "text": [
            "Saved\n"
          ],
          "name": "stdout"
        }
      ]
    },
    {
      "cell_type": "markdown",
      "metadata": {
        "id": "N1uDPkb4If4m",
        "colab_type": "text"
      },
      "source": [
        "**Using our saved model**"
      ]
    },
    {
      "cell_type": "code",
      "metadata": {
        "id": "Q-rRGXhkIjAl",
        "colab_type": "code",
        "colab": {
          "base_uri": "https://localhost:8080/",
          "height": 50
        },
        "outputId": "aae319f9-851d-42bf-899c-ab8054fe105b"
      },
      "source": [
        "import pickle as pk\n",
        "from google.colab import drive \n",
        "from keras.models import load_model\n",
        "drive.mount('/content/drive')\n",
        "DATA_PATH = \"/content/drive/My Drive/Colab Notebooks\"\n",
        "model=load_model('cnn1xp2')\n",
        "import cv2\n",
        "cat=['Normal','Pneumonia','TB']\n",
        "img=cv2.imread(DATA_PATH+'/person5_bacteria_15.jpeg')\n",
        "img=cv2.resize(img,(90,90))\n",
        "import numpy\n",
        "img=numpy.reshape(img,(-1,90,90,3))\n",
        "img=img/255-0.5\n",
        "pred=model.predict(img)\n",
        "pred=np.argmax(pred)\n",
        "if pred==0:\n",
        "  print(\"Normal\")\n",
        "elif pred==1:\n",
        "  print(\"Pneumonia\")\n",
        "elif pred==2:\n",
        "  print(\"Tuberculosis\")    "
      ],
      "execution_count": 19,
      "outputs": [
        {
          "output_type": "stream",
          "text": [
            "Drive already mounted at /content/drive; to attempt to forcibly remount, call drive.mount(\"/content/drive\", force_remount=True).\n",
            "Pneumonia\n"
          ],
          "name": "stdout"
        }
      ]
    }
  ]
}